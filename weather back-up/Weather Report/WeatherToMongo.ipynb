{
 "cells": [
  {
   "cell_type": "code",
   "execution_count": 1,
   "metadata": {
    "collapsed": true
   },
   "outputs": [],
   "source": [
    "import urllib, json\n",
    "from pymongo import MongoClient\n",
    "client = MongoClient()\n",
    "db = client.twitter\n",
    "weather = db.weather"
   ]
  },
  {
   "cell_type": "code",
   "execution_count": 2,
   "metadata": {
    "collapsed": true
   },
   "outputs": [],
   "source": [
    "url = \"http://api.openweathermap.org/data/2.5/forecast?q=London,uk&mode=json&appid=618ccea85118db5694a46720437ba07c\"\n",
    "response = urllib.urlopen(url)\n",
    "data = json.loads(response.read())\n",
    "l = [d for d in data['list']]"
   ]
  },
  {
   "cell_type": "code",
   "execution_count": 3,
   "metadata": {
    "collapsed": false
   },
   "outputs": [
    {
     "name": "stderr",
     "output_type": "stream",
     "text": [
      "C:\\Users\\student12\\Anaconda2\\lib\\site-packages\\ipykernel\\__main__.py:1: DeprecationWarning: insert is deprecated. Use insert_one or insert_many instead.\n",
      "  if __name__ == '__main__':\n"
     ]
    },
    {
     "data": {
      "text/plain": [
       "[ObjectId('57e4e2e18694de5078f16638'),\n",
       " ObjectId('57e4e2e18694de5078f16639'),\n",
       " ObjectId('57e4e2e18694de5078f1663a'),\n",
       " ObjectId('57e4e2e18694de5078f1663b'),\n",
       " ObjectId('57e4e2e18694de5078f1663c'),\n",
       " ObjectId('57e4e2e18694de5078f1663d'),\n",
       " ObjectId('57e4e2e18694de5078f1663e'),\n",
       " ObjectId('57e4e2e18694de5078f1663f'),\n",
       " ObjectId('57e4e2e18694de5078f16640'),\n",
       " ObjectId('57e4e2e18694de5078f16641'),\n",
       " ObjectId('57e4e2e18694de5078f16642'),\n",
       " ObjectId('57e4e2e18694de5078f16643'),\n",
       " ObjectId('57e4e2e18694de5078f16644'),\n",
       " ObjectId('57e4e2e18694de5078f16645'),\n",
       " ObjectId('57e4e2e18694de5078f16646'),\n",
       " ObjectId('57e4e2e18694de5078f16647'),\n",
       " ObjectId('57e4e2e18694de5078f16648'),\n",
       " ObjectId('57e4e2e18694de5078f16649'),\n",
       " ObjectId('57e4e2e18694de5078f1664a'),\n",
       " ObjectId('57e4e2e18694de5078f1664b'),\n",
       " ObjectId('57e4e2e18694de5078f1664c'),\n",
       " ObjectId('57e4e2e18694de5078f1664d'),\n",
       " ObjectId('57e4e2e18694de5078f1664e'),\n",
       " ObjectId('57e4e2e18694de5078f1664f'),\n",
       " ObjectId('57e4e2e18694de5078f16650'),\n",
       " ObjectId('57e4e2e18694de5078f16651'),\n",
       " ObjectId('57e4e2e18694de5078f16652'),\n",
       " ObjectId('57e4e2e18694de5078f16653'),\n",
       " ObjectId('57e4e2e18694de5078f16654'),\n",
       " ObjectId('57e4e2e18694de5078f16655'),\n",
       " ObjectId('57e4e2e18694de5078f16656'),\n",
       " ObjectId('57e4e2e18694de5078f16657'),\n",
       " ObjectId('57e4e2e18694de5078f16658'),\n",
       " ObjectId('57e4e2e18694de5078f16659'),\n",
       " ObjectId('57e4e2e18694de5078f1665a'),\n",
       " ObjectId('57e4e2e18694de5078f1665b'),\n",
       " ObjectId('57e4e2e18694de5078f1665c')]"
      ]
     },
     "execution_count": 3,
     "metadata": {},
     "output_type": "execute_result"
    }
   ],
   "source": [
    "weather.insert(l)"
   ]
  },
  {
   "cell_type": "code",
   "execution_count": null,
   "metadata": {
    "collapsed": true
   },
   "outputs": [],
   "source": [
    ""
   ]
  }
 ],
 "metadata": {
  "kernelspec": {
   "display_name": "Python [Root]",
   "language": "python",
   "name": "Python [Root]"
  },
  "language_info": {
   "codemirror_mode": {
    "name": "ipython",
    "version": 2.0
   },
   "file_extension": ".py",
   "mimetype": "text/x-python",
   "name": "python",
   "nbconvert_exporter": "python",
   "pygments_lexer": "ipython2",
   "version": "2.7.12"
  }
 },
 "nbformat": 4,
 "nbformat_minor": 0
}