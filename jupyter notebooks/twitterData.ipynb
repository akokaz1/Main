{
 "cells": [
  {
   "cell_type": "code",
   "execution_count": 1,
   "metadata": {
    "collapsed": true
   },
   "outputs": [],
   "source": [
    "import pyodbc, sys\n",
    "import json"
   ]
  },
  {
   "cell_type": "code",
   "execution_count": 2,
   "metadata": {
    "collapsed": true
   },
   "outputs": [],
   "source": [
    "cnx = pyodbc.connect('DSN=kubrick')\n",
    "cursor = cnx.cursor()"
   ]
  },
  {
   "cell_type": "code",
   "execution_count": 3,
   "metadata": {
    "collapsed": true
   },
   "outputs": [],
   "source": [
    "cursor.execute(\"select tweet from dbo.twitter\")\n",
    "row = cursor.fetchall()\n",
    "testlist = []"
   ]
  },
  {
   "cell_type": "code",
   "execution_count": 4,
   "metadata": {
    "collapsed": true
   },
   "outputs": [],
   "source": [
    "for r in row:\n",
    "        testlist.append(json.loads(r[0]))                  #code above fetches twitter data from SQL"
   ]
  },
  {
   "cell_type": "code",
   "execution_count": 5,
   "metadata": {
    "collapsed": false
   },
   "outputs": [
    {
     "name": "stdout",
     "output_type": "stream",
     "text": [
      "{u'contributors': None, u'truncated': False, u'text': u'London Dairy Ice Cream now available at #Springs https://t.co/4ENfHMSLXB', u'is_quote_status': False, u'in_reply_to_status_id': None, u'id': 776686520472338432L, u'favorite_count': 0, u'source': u'<a href=\"http://www.facebook.com/twitter\" rel=\"nofollow\">Facebook</a>', u'retweeted': False, u'coordinates': None, u'timestamp_ms': u'1474011471275', u'entities': {u'user_mentions': [], u'symbols': [], u'hashtags': [{u'indices': [40, 48], u'text': u'Springs'}], u'urls': [{u'url': u'https://t.co/4ENfHMSLXB', u'indices': [49, 72], u'expanded_url': u'http://fb.me/1ohNsBuAN', u'display_url': u'fb.me/1ohNsBuAN'}]}, u'in_reply_to_screen_name': None, u'in_reply_to_user_id': None, u'retweet_count': 0, u'id_str': u'776686520472338432', u'favorited': False, u'user': {u'follow_request_sent': None, u'profile_use_background_image': True, u'id': 2999856156L, u'verified': False, u'profile_image_url_https': u'https://pbs.twimg.com/profile_images/560557512127033344/rXWW0HEB_normal.png', u'profile_sidebar_fill_color': u'DDEEF6', u'is_translator': False, u'geo_enabled': False, u'profile_text_color': u'333333', u'followers_count': 2, u'protected': False, u'location': None, u'default_profile_image': False, u'id_str': u'2999856156', u'utc_offset': 18000, u'statuses_count': 278, u'description': None, u'friends_count': 40, u'profile_link_color': u'ABB8C2', u'profile_image_url': u'http://pbs.twimg.com/profile_images/560557512127033344/rXWW0HEB_normal.png', u'notifications': None, u'profile_background_image_url_https': u'https://abs.twimg.com/images/themes/theme5/bg.gif', u'profile_background_color': u'352726', u'profile_banner_url': u'https://pbs.twimg.com/profile_banners/2999856156/1422489804', u'profile_background_image_url': u'http://abs.twimg.com/images/themes/theme5/bg.gif', u'screen_name': u'SpringsTheStore', u'lang': u'en', u'profile_background_tile': False, u'favourites_count': 0, u'name': u'Springs', u'url': None, u'created_at': u'Wed Jan 28 21:56:43 +0000 2015', u'contributors_enabled': False, u'time_zone': u'Islamabad', u'profile_sidebar_border_color': u'C0DEED', u'default_profile': False, u'following': None, u'listed_count': 0}, u'geo': None, u'in_reply_to_user_id_str': None, u'possibly_sensitive': False, u'lang': u'en', u'created_at': u'Fri Sep 16 07:37:51 +0000 2016', u'filter_level': u'low', u'in_reply_to_status_id_str': None, u'place': None}\n"
     ]
    }
   ],
   "source": [
    "print testlist[5]"
   ]
  },
  {
   "cell_type": "code",
   "execution_count": 6,
   "metadata": {
    "collapsed": true
   },
   "outputs": [],
   "source": [
    "from pandas import DataFrame, Series"
   ]
  },
  {
   "cell_type": "code",
   "execution_count": 7,
   "metadata": {
    "collapsed": true
   },
   "outputs": [],
   "source": [
    "frame = DataFrame(testlist)"
   ]
  },
  {
   "cell_type": "code",
   "execution_count": 8,
   "metadata": {
    "collapsed": false
   },
   "outputs": [
    {
     "name": "stdout",
     "output_type": "stream",
     "text": [
      "<class 'pandas.core.frame.DataFrame'>\n",
      "RangeIndex: 10 entries, 0 to 9\n",
      "Data columns (total 31 columns):\n",
      "contributors                 0 non-null object\n",
      "coordinates                  0 non-null object\n",
      "created_at                   10 non-null object\n",
      "entities                     10 non-null object\n",
      "extended_entities            2 non-null object\n",
      "favorite_count               10 non-null int64\n",
      "favorited                    10 non-null bool\n",
      "filter_level                 10 non-null object\n",
      "geo                          0 non-null object\n",
      "id                           10 non-null int64\n",
      "id_str                       10 non-null object\n",
      "in_reply_to_screen_name      1 non-null object\n",
      "in_reply_to_status_id        1 non-null float64\n",
      "in_reply_to_status_id_str    1 non-null object\n",
      "in_reply_to_user_id          1 non-null float64\n",
      "in_reply_to_user_id_str      1 non-null object\n",
      "is_quote_status              10 non-null bool\n",
      "lang                         10 non-null object\n",
      "place                        1 non-null object\n",
      "possibly_sensitive           9 non-null object\n",
      "quoted_status                3 non-null object\n",
      "quoted_status_id             3 non-null float64\n",
      "quoted_status_id_str         3 non-null object\n",
      "retweet_count                10 non-null int64\n",
      "retweeted                    10 non-null bool\n",
      "retweeted_status             3 non-null object\n",
      "source                       10 non-null object\n",
      "text                         10 non-null object\n",
      "timestamp_ms                 10 non-null object\n",
      "truncated                    10 non-null bool\n",
      "user                         10 non-null object\n",
      "dtypes: bool(4), float64(3), int64(3), object(21)\n",
      "memory usage: 2.2+ KB\n"
     ]
    }
   ],
   "source": [
    "frame.info()                                   #the fields provided in a twitter search"
   ]
  },
  {
   "cell_type": "code",
   "execution_count": null,
   "metadata": {
    "collapsed": false
   },
   "outputs": [],
   "source": []
  },
  {
   "cell_type": "code",
   "execution_count": 9,
   "metadata": {
    "collapsed": false
   },
   "outputs": [
    {
     "data": {
      "text/plain": [
       "0    [I'm not surprised there was a landslide the a...\n",
       "1    [RT @katrynadow: Swapping #London rain for sun...\n",
       "2    [RT @zobolondon: Half a month's worth of rain ...\n",
       "3    [Hey guys,  I'm totally up for moving London t...\n",
       "4    [RT @YRCHDVideos: Could be a waterlogged pitch...\n",
       "5    [London Dairy Ice Cream now available at #Spri...\n",
       "6    [Sunset....\\n#sunset #london #holidayover #goo...\n",
       "7    [London commuters ... Travel chaos after heavy...\n",
       "8    [Big storm hits Manchester,  barely gets a men...\n",
       "9    [@HeartThamesNews I got it from a private FB t...\n",
       "Name: text, dtype: object"
      ]
     },
     "execution_count": 9,
     "metadata": {},
     "output_type": "execute_result"
    }
   ],
   "source": [
    "frame['text'].str.split(',')\n"
   ]
  },
  {
   "cell_type": "code",
   "execution_count": 10,
   "metadata": {
    "collapsed": false
   },
   "outputs": [],
   "source": [
    "results  = Series([x.split() for x in frame['text']])"
   ]
  },
  {
   "cell_type": "code",
   "execution_count": 11,
   "metadata": {
    "collapsed": false,
    "scrolled": true
   },
   "outputs": [
    {
     "data": {
      "text/plain": [
       "0    [I'm, not, surprised, there, was, a, landslide...\n",
       "1    [RT, @katrynadow:, Swapping, #London, rain, fo...\n",
       "2    [RT, @zobolondon:, Half, a, month's, worth, of...\n",
       "3    [Hey, guys,, I'm, totally, up, for, moving, Lo...\n",
       "4    [RT, @YRCHDVideos:, Could, be, a, waterlogged,...\n",
       "5    [London, Dairy, Ice, Cream, now, available, at...\n",
       "6    [Sunset...., #sunset, #london, #holidayover, #...\n",
       "7    [London, commuters, ..., Travel, chaos, after,...\n",
       "8    [Big, storm, hits, Manchester,, barely, gets, ...\n",
       "9    [@HeartThamesNews, I, got, it, from, a, privat...\n",
       "dtype: object"
      ]
     },
     "execution_count": 11,
     "metadata": {},
     "output_type": "execute_result"
    }
   ],
   "source": [
    "results\n"
   ]
  },
  {
   "cell_type": "code",
   "execution_count": 12,
   "metadata": {
    "collapsed": false
   },
   "outputs": [],
   "source": [
    "from collections import Counter\n",
    "counts = [Counter(x) for x in results]"
   ]
  },
  {
   "cell_type": "code",
   "execution_count": 13,
   "metadata": {
    "collapsed": false
   },
   "outputs": [],
   "source": [
    "import pandas as pd\n",
    "from stop_words import get_stop_words\n"
   ]
  },
  {
   "cell_type": "code",
   "execution_count": 14,
   "metadata": {
    "collapsed": false
   },
   "outputs": [],
   "source": [
    "skepta = ['rt','-','&amp;','|']\n",
    "stop_words = get_stop_words('english')\n",
    "stop_words.extend(skepta)"
   ]
  },
  {
   "cell_type": "code",
   "execution_count": 15,
   "metadata": {
    "collapsed": false
   },
   "outputs": [],
   "source": [
    "s = pd.Series(' '.join(frame['text']).lower().split())"
   ]
  },
  {
   "cell_type": "code",
   "execution_count": 16,
   "metadata": {
    "collapsed": false
   },
   "outputs": [],
   "source": [
    "sclean = Series(t for t in s if t.lower() not in stop_words)"
   ]
  },
  {
   "cell_type": "code",
   "execution_count": 17,
   "metadata": {
    "collapsed": false,
    "scrolled": true
   },
   "outputs": [
    {
     "data": {
      "text/plain": [
       "rain                       5\n",
       "london                     4\n",
       "storm                      2\n",
       "#london                    2\n",
       "big                        2\n",
       "hits                       2\n",
       "...                        1\n",
       "@                          1\n",
       "brings                     1\n",
       "like                       1\n",
       "national                   1\n",
       "sunny                      1\n",
       "landing                    1\n",
       "sunset....                 1\n",
       "mention                    1\n",
       "waterlogged                1\n",
       "https://t.co/7dr1zgyajs    1\n",
       "surprised                  1\n",
       "nw.                        1\n",
       "now                        1\n",
       "dtype: int64"
      ]
     },
     "execution_count": 17,
     "metadata": {},
     "output_type": "execute_result"
    }
   ],
   "source": [
    "sclean.value_counts()[:20]"
   ]
  },
  {
   "cell_type": "code",
   "execution_count": null,
   "metadata": {
    "collapsed": true
   },
   "outputs": [],
   "source": []
  },
  {
   "cell_type": "code",
   "execution_count": null,
   "metadata": {
    "collapsed": true
   },
   "outputs": [],
   "source": []
  },
  {
   "cell_type": "code",
   "execution_count": null,
   "metadata": {
    "collapsed": true
   },
   "outputs": [],
   "source": []
  }
 ],
 "metadata": {
  "anaconda-cloud": {},
  "kernelspec": {
   "display_name": "Python [Root]",
   "language": "python",
   "name": "Python [Root]"
  },
  "language_info": {
   "codemirror_mode": {
    "name": "ipython",
    "version": 2
   },
   "file_extension": ".py",
   "mimetype": "text/x-python",
   "name": "python",
   "nbconvert_exporter": "python",
   "pygments_lexer": "ipython2",
   "version": "2.7.12"
  }
 },
 "nbformat": 4,
 "nbformat_minor": 0
}
