{
 "cells": [
  {
   "cell_type": "code",
   "execution_count": 41,
   "metadata": {
    "collapsed": true
   },
   "outputs": [],
   "source": [
    "import pyodbc, sys\n",
    "import json"
   ]
  },
  {
   "cell_type": "code",
   "execution_count": 42,
   "metadata": {
    "collapsed": true
   },
   "outputs": [],
   "source": [
    "cnx = pyodbc.connect('DSN=kubrick')\n",
    "cursor = cnx.cursor()"
   ]
  },
  {
   "cell_type": "code",
   "execution_count": 43,
   "metadata": {
    "collapsed": true
   },
   "outputs": [],
   "source": [
    "cursor.execute(\"select tweet from dbo.twitter\")\n",
    "row = cursor.fetchall()\n",
    "testlist = []"
   ]
  },
  {
   "cell_type": "code",
   "execution_count": 44,
   "metadata": {
    "collapsed": true
   },
   "outputs": [],
   "source": [
    "for r in row:\n",
    "        testlist.append(json.loads(r[0]))"
   ]
  },
  {
   "cell_type": "code",
   "execution_count": 45,
   "metadata": {
    "collapsed": false
   },
   "outputs": [
    {
     "name": "stdout",
     "output_type": "stream",
     "text": [
      "{u'contributors': None, u'truncated': False, u'text': u\"RT @elpaisinenglish: Good morning! Here's a look at the weather forecast for Spain on Wednesday https://t.co/Yjb73RZvoa #rain #chilly https\\u2026\", u'is_quote_status': False, u'in_reply_to_status_id': None, u'id': 775963972826566656L, u'favorite_count': 0, u'source': u'<a href=\"http://twitter.com/download/android\" rel=\"nofollow\">Twitter for Android</a>', u'retweeted': False, u'coordinates': None, u'timestamp_ms': u'1473839202492', u'entities': {u'user_mentions': [{u'indices': [3, 19], u'screen_name': u'elpaisinenglish', u'id': 216739115, u'name': u'El Pa\\xeds in English', u'id_str': u'216739115'}], u'symbols': [], u'hashtags': [{u'indices': [120, 125], u'text': u'rain'}, {u'indices': [126, 133], u'text': u'chilly'}], u'urls': [{u'url': u'https://t.co/Yjb73RZvoa', u'indices': [96, 119], u'expanded_url': u'http://ow.ly/UE6B304c1gn', u'display_url': u'ow.ly/UE6B304c1gn'}], u'media': [{u'source_user_id': 216739115, u'source_status_id_str': u'775929609716047872', u'expanded_url': u'https://twitter.com/elpaisinenglish/status/775929609716047872/photo/1', u'display_url': u'pic.twitter.com/EIZOwei8Ub', u'url': u'https://t.co/EIZOwei8Ub', u'media_url_https': u'https://pbs.twimg.com/media/CsSn3bxUsAATzXZ.jpg', u'source_user_id_str': u'216739115', u'source_status_id': 775929609716047872L, u'id_str': u'775929606603845632', u'sizes': {u'large': {u'h': 529, u'w': 777, u'resize': u'fit'}, u'small': {u'h': 463, u'w': 680, u'resize': u'fit'}, u'medium': {u'h': 529, u'w': 777, u'resize': u'fit'}, u'thumb': {u'h': 150, u'w': 150, u'resize': u'crop'}}, u'indices': [139, 140], u'type': u'photo', u'id': 775929606603845632L, u'media_url': u'http://pbs.twimg.com/media/CsSn3bxUsAATzXZ.jpg'}]}, u'in_reply_to_screen_name': None, u'in_reply_to_user_id': None, u'retweet_count': 0, u'id_str': u'775963972826566656', u'favorited': False, u'retweeted_status': {u'contributors': None, u'truncated': False, u'text': u\"Good morning! Here's a look at the weather forecast for Spain on Wednesday https://t.co/Yjb73RZvoa #rain #chilly https://t.co/EIZOwei8Ub\", u'is_quote_status': False, u'in_reply_to_status_id': None, u'id': 775929609716047872L, u'favorite_count': 1, u'source': u'<a href=\"http://www.hootsuite.com\" rel=\"nofollow\">Hootsuite</a>', u'retweeted': False, u'coordinates': None, u'entities': {u'user_mentions': [], u'symbols': [], u'hashtags': [{u'indices': [99, 104], u'text': u'rain'}, {u'indices': [105, 112], u'text': u'chilly'}], u'urls': [{u'url': u'https://t.co/Yjb73RZvoa', u'indices': [75, 98], u'expanded_url': u'http://ow.ly/UE6B304c1gn', u'display_url': u'ow.ly/UE6B304c1gn'}], u'media': [{u'expanded_url': u'https://twitter.com/elpaisinenglish/status/775929609716047872/photo/1', u'sizes': {u'large': {u'h': 529, u'w': 777, u'resize': u'fit'}, u'small': {u'h': 463, u'w': 680, u'resize': u'fit'}, u'medium': {u'h': 529, u'w': 777, u'resize': u'fit'}, u'thumb': {u'h': 150, u'w': 150, u'resize': u'crop'}}, u'url': u'https://t.co/EIZOwei8Ub', u'media_url_https': u'https://pbs.twimg.com/media/CsSn3bxUsAATzXZ.jpg', u'id_str': u'775929606603845632', u'indices': [113, 136], u'media_url': u'http://pbs.twimg.com/media/CsSn3bxUsAATzXZ.jpg', u'type': u'photo', u'id': 775929606603845632L, u'display_url': u'pic.twitter.com/EIZOwei8Ub'}]}, u'in_reply_to_screen_name': None, u'in_reply_to_user_id': None, u'retweet_count': 1, u'id_str': u'775929609716047872', u'favorited': False, u'user': {u'follow_request_sent': None, u'profile_use_background_image': False, u'id': 216739115, u'verified': True, u'profile_image_url_https': u'https://pbs.twimg.com/profile_images/517764795227852800/FQP2CScN_normal.jpeg', u'profile_sidebar_fill_color': u'DDEEF6', u'is_translator': False, u'geo_enabled': False, u'profile_text_color': u'333333', u'followers_count': 30230, u'protected': False, u'location': u'Madrid', u'default_profile_image': False, u'id_str': u'216739115', u'utc_offset': 7200, u'statuses_count': 21119, u'description': u'The best content from the world\\u2019s leading Spanish-language daily \\u2013 @El_Pais in English.', u'friends_count': 581, u'profile_link_color': u'0084B4', u'profile_image_url': u'http://pbs.twimg.com/profile_images/517764795227852800/FQP2CScN_normal.jpeg', u'notifications': None, u'profile_background_image_url_https': u'https://pbs.twimg.com/profile_background_images/506424513/f-english.png', u'profile_background_color': u'FFFFFF', u'profile_banner_url': u'https://pbs.twimg.com/profile_banners/216739115/1464621239', u'profile_background_image_url': u'http://pbs.twimg.com/profile_background_images/506424513/f-english.png', u'screen_name': u'elpaisinenglish', u'lang': u'en', u'profile_background_tile': False, u'favourites_count': 995, u'name': u'El Pa\\xeds in English', u'url': u'http://elpais.com/elpais/inenglish.html', u'created_at': u'Wed Nov 17 15:48:08 +0000 2010', u'contributors_enabled': False, u'time_zone': u'Madrid', u'profile_sidebar_border_color': u'FFFFFF', u'default_profile': False, u'following': None, u'listed_count': 1072}, u'geo': None, u'in_reply_to_user_id_str': None, u'possibly_sensitive': False, u'lang': u'en', u'created_at': u'Wed Sep 14 05:30:09 +0000 2016', u'filter_level': u'low', u'in_reply_to_status_id_str': None, u'place': None, u'extended_entities': {u'media': [{u'expanded_url': u'https://twitter.com/elpaisinenglish/status/775929609716047872/photo/1', u'sizes': {u'large': {u'h': 529, u'w': 777, u'resize': u'fit'}, u'small': {u'h': 463, u'w': 680, u'resize': u'fit'}, u'medium': {u'h': 529, u'w': 777, u'resize': u'fit'}, u'thumb': {u'h': 150, u'w': 150, u'resize': u'crop'}}, u'url': u'https://t.co/EIZOwei8Ub', u'media_url_https': u'https://pbs.twimg.com/media/CsSn3bxUsAATzXZ.jpg', u'id_str': u'775929606603845632', u'indices': [113, 136], u'media_url': u'http://pbs.twimg.com/media/CsSn3bxUsAATzXZ.jpg', u'type': u'photo', u'id': 775929606603845632L, u'display_url': u'pic.twitter.com/EIZOwei8Ub'}]}}, u'user': {u'follow_request_sent': None, u'profile_use_background_image': True, u'id': 1728932216, u'verified': False, u'profile_image_url_https': u'https://pbs.twimg.com/profile_images/378800000410895751/3e902542255d84ec560d19b936ee6d86_normal.jpeg', u'profile_sidebar_fill_color': u'DDEEF6', u'is_translator': False, u'geo_enabled': True, u'profile_text_color': u'333333', u'followers_count': 638, u'protected': False, u'location': None, u'default_profile_image': False, u'id_str': u'1728932216', u'utc_offset': -14400, u'statuses_count': 236617, u'description': None, u'friends_count': 71, u'profile_link_color': u'0084B4', u'profile_image_url': u'http://pbs.twimg.com/profile_images/378800000410895751/3e902542255d84ec560d19b936ee6d86_normal.jpeg', u'notifications': None, u'profile_background_image_url_https': u'https://abs.twimg.com/images/themes/theme1/bg.png', u'profile_background_color': u'C0DEED', u'profile_background_image_url': u'http://abs.twimg.com/images/themes/theme1/bg.png', u'screen_name': u'edavid57edavid', u'lang': u'es', u'profile_background_tile': False, u'favourites_count': 28180, u'name': u'edavid sanguisalas', u'url': None, u'created_at': u'Wed Sep 04 14:27:09 +0000 2013', u'contributors_enabled': False, u'time_zone': u'Eastern Time (US & Canada)', u'profile_sidebar_border_color': u'C0DEED', u'default_profile': True, u'following': None, u'listed_count': 541}, u'geo': None, u'in_reply_to_user_id_str': None, u'possibly_sensitive': False, u'lang': u'en', u'created_at': u'Wed Sep 14 07:46:42 +0000 2016', u'filter_level': u'low', u'in_reply_to_status_id_str': None, u'place': None, u'extended_entities': {u'media': [{u'source_user_id': 216739115, u'source_status_id_str': u'775929609716047872', u'expanded_url': u'https://twitter.com/elpaisinenglish/status/775929609716047872/photo/1', u'display_url': u'pic.twitter.com/EIZOwei8Ub', u'url': u'https://t.co/EIZOwei8Ub', u'media_url_https': u'https://pbs.twimg.com/media/CsSn3bxUsAATzXZ.jpg', u'source_user_id_str': u'216739115', u'source_status_id': 775929609716047872L, u'id_str': u'775929606603845632', u'sizes': {u'large': {u'h': 529, u'w': 777, u'resize': u'fit'}, u'small': {u'h': 463, u'w': 680, u'resize': u'fit'}, u'medium': {u'h': 529, u'w': 777, u'resize': u'fit'}, u'thumb': {u'h': 150, u'w': 150, u'resize': u'crop'}}, u'indices': [139, 140], u'type': u'photo', u'id': 775929606603845632L, u'media_url': u'http://pbs.twimg.com/media/CsSn3bxUsAATzXZ.jpg'}]}}\n"
     ]
    }
   ],
   "source": [
    "print testlist[5]"
   ]
  },
  {
   "cell_type": "code",
   "execution_count": 46,
   "metadata": {
    "collapsed": true
   },
   "outputs": [],
   "source": [
    "from pandas import DataFrame, Series"
   ]
  },
  {
   "cell_type": "code",
   "execution_count": 47,
   "metadata": {
    "collapsed": true
   },
   "outputs": [],
   "source": [
    "frame = DataFrame(testlist)"
   ]
  },
  {
   "cell_type": "code",
   "execution_count": 48,
   "metadata": {
    "collapsed": false
   },
   "outputs": [
    {
     "name": "stdout",
     "output_type": "stream",
     "text": [
      "<class 'pandas.core.frame.DataFrame'>\n",
      "RangeIndex: 1250 entries, 0 to 1249\n",
      "Data columns (total 31 columns):\n",
      "contributors                 0 non-null object\n",
      "coordinates                  20 non-null object\n",
      "created_at                   1250 non-null object\n",
      "entities                     1250 non-null object\n",
      "extended_entities            303 non-null object\n",
      "favorite_count               1250 non-null int64\n",
      "favorited                    1250 non-null bool\n",
      "filter_level                 1250 non-null object\n",
      "geo                          20 non-null object\n",
      "id                           1250 non-null int64\n",
      "id_str                       1250 non-null object\n",
      "in_reply_to_screen_name      85 non-null object\n",
      "in_reply_to_status_id        62 non-null float64\n",
      "in_reply_to_status_id_str    62 non-null object\n",
      "in_reply_to_user_id          85 non-null float64\n",
      "in_reply_to_user_id_str      85 non-null object\n",
      "is_quote_status              1250 non-null bool\n",
      "lang                         1250 non-null object\n",
      "place                        60 non-null object\n",
      "possibly_sensitive           797 non-null object\n",
      "quoted_status                78 non-null object\n",
      "quoted_status_id             78 non-null float64\n",
      "quoted_status_id_str         78 non-null object\n",
      "retweet_count                1250 non-null int64\n",
      "retweeted                    1250 non-null bool\n",
      "retweeted_status             567 non-null object\n",
      "source                       1250 non-null object\n",
      "text                         1250 non-null object\n",
      "timestamp_ms                 1250 non-null object\n",
      "truncated                    1250 non-null bool\n",
      "user                         1250 non-null object\n",
      "dtypes: bool(4), float64(3), int64(3), object(21)\n",
      "memory usage: 268.6+ KB\n"
     ]
    }
   ],
   "source": [
    "frame.info()"
   ]
  },
  {
   "cell_type": "code",
   "execution_count": 49,
   "metadata": {
    "collapsed": false
   },
   "outputs": [
    {
     "data": {
      "text/plain": [
       "0                                                    None\n",
       "1                                                    None\n",
       "2                                                    None\n",
       "3                                                    None\n",
       "4                                                    None\n",
       "5                                                    None\n",
       "6                                                    None\n",
       "7                                                    None\n",
       "8                                                    None\n",
       "9                                                    None\n",
       "10                                                   None\n",
       "11                                                   None\n",
       "12                                                   None\n",
       "13                                                   None\n",
       "14                                                   None\n",
       "15                                                   None\n",
       "16                                                   None\n",
       "17                                                   None\n",
       "18                                                   None\n",
       "19                                                   None\n",
       "20                                                   None\n",
       "21                                                   None\n",
       "22                                                   None\n",
       "23                                                   None\n",
       "24                                                   None\n",
       "25                                                   None\n",
       "26                                                   None\n",
       "27                                                   None\n",
       "28                                                   None\n",
       "29                                                   None\n",
       "                              ...                        \n",
       "1220                                                 None\n",
       "1221                                                 None\n",
       "1222                                                 None\n",
       "1223                                                 None\n",
       "1224                                                 None\n",
       "1225                                                 None\n",
       "1226                                                 None\n",
       "1227                                                 None\n",
       "1228                                                 None\n",
       "1229                                                 None\n",
       "1230                                                 None\n",
       "1231                                                 None\n",
       "1232                                                 None\n",
       "1233                                                 None\n",
       "1234                                                 None\n",
       "1235                                                 None\n",
       "1236                                                 None\n",
       "1237                                                 None\n",
       "1238                                                 None\n",
       "1239                                                 None\n",
       "1240                                                 None\n",
       "1241                                                 None\n",
       "1242    {u'type': u'Point', u'coordinates': [1.1688888...\n",
       "1243    {u'type': u'Point', u'coordinates': [-2.863333...\n",
       "1244                                                 None\n",
       "1245                                                 None\n",
       "1246                                                 None\n",
       "1247                                                 None\n",
       "1248                                                 None\n",
       "1249                                                 None\n",
       "Name: coordinates, dtype: object"
      ]
     },
     "execution_count": 49,
     "metadata": {},
     "output_type": "execute_result"
    }
   ],
   "source": [
    "frame['coordinates']"
   ]
  },
  {
   "cell_type": "code",
   "execution_count": 143,
   "metadata": {
    "collapsed": false
   },
   "outputs": [
    {
     "data": {
      "text/plain": [
       "0       [How does London compare to the most expensive...\n",
       "1       [RT @Imjustbanter: LONDON UNDERGROUND IMPRESSI...\n",
       "2       [RT @dost_pagasa: SEVERE WEATHER BULLETIN #18\\...\n",
       "3       [RT @GgNewsUK: Man 'killed by Porsche driver' ...\n",
       "4       [RT @vinteriorUK: Hand Painted Dresser Chest O...\n",
       "5       [RT @elpaisinenglish: Good morning! Here's a l...\n",
       "6       [RT @voimaoy: At the  Emporium,  a shop sold  ...\n",
       "7       [RT @MesutOzil1088: With one point back to #Lo...\n",
       "8       [RT @puludio_: Cant wait till sweater weather�...\n",
       "9       [RT @StarAdvertiser: Flood warning extended fo...\n",
       "10      [RT @nacinorocco: Weather's kinda unpredictabl...\n",
       "11      [RT @Ranasha: #Technology #Startup #Founder Ne...\n",
       "12      [#99c #BOOKSPECIALS\\n@HollowManSeries \\nAmazon...\n",
       "13      [RT @Tunnelbreeze: \"Central Tube Station\" A po...\n",
       "14      [RT @london_cycling: Our led #BikeTube rides h...\n",
       "15      [RT @Pembsbandb: Pembrokeshire to Star at The ...\n",
       "16      [RT @rowanrowrowan: Summer vibes in London 🇬�...\n",
       "17      [RT @ParalympicsGB: Last night we brought our ...\n",
       "18      [RT @Londonescort69: London Escort-JESS Blonde...\n",
       "19      [RT @SpecialityOxy: Today sees #TeamSOS callin...\n",
       "20      [RT @rowanrowrowan: Summer vibes in London 🇬�...\n",
       "21      [RT @Oniropolis: 'Now More Than Ever,  London ...\n",
       "22      [RT @BusisiweMabena_: And for tonight's weathe...\n",
       "23      [RT @rowanrowrowan: Summer vibes in London 🇬�...\n",
       "24      [RT @beingobsessed: summer can be great and al...\n",
       "25      [RT @meetandjam: Female-fronted hardcore metal...\n",
       "26             [London News 24/7 https://t.co/5UpradbLxF]\n",
       "27      [It's #CycleToWorkDay and @CarolineRussell wil...\n",
       "28      [People of London,  open your eyes before walk...\n",
       "29      [What is #London to you ? #Watch my video and ...\n",
       "                              ...                        \n",
       "1220    [We are open and happy to report that our litt...\n",
       "1221          [This is the perfect weather for supermalt]\n",
       "1222    [@BTCare I'd be interested to know why my conn...\n",
       "1223    [@AyeLetsGetWeird lmao it's gay I think this c...\n",
       "1224    [Cool Down with GODIVA’s Brand New Summer Trea...\n",
       "1225    [ICT issues Hazardous Weather Outlook (HWO) ht...\n",
       "1226    [Dressing like a deckchair again... Love the u...\n",
       "1227                               [Weather so nice 😫💯]\n",
       "1228    [@PureroomUK this sounds like a perfect answer...\n",
       "1229    [Day 2 of @chilternrailway bearable hot house,...\n",
       "1230    [JKL issues Hazardous Weather Outlook (HWO)  h...\n",
       "1231    [Wednesday 08:59. Dry. Temp 18.4C. Dew pt 17.9...\n",
       "1232    [ILN issues Hazardous Weather Outlook (HWO)  h...\n",
       "1233    [Weather Conditions for Coldstream Rain until ...\n",
       "1234    [RT @WireBirmingham: BIRMINGHAM ON FILM: Mitch...\n",
       "1235    [RT @UnrulyFella: The same people who been com...\n",
       "1236    [RT @Faith_Steezy: Cold weather makes me sad c...\n",
       "1237               [RT @Clyyss: Perfect Bae weather ❤️😍]\n",
       "1238    [Lake Hamana Weather(Shizuoka JPN)17:00:03JST ...\n",
       "1239    [Almost ready to pack up our things from our c...\n",
       "1240    [#Weather Conditions at 09:00:01 | Wind: 0.0mp...\n",
       "1241    [K5BL LIVE Weather McKinney TEXAS USA ... 03:0...\n",
       "1242    [Wind 6.0 mph ENE\\nBarometer 1009.62 mb Rising...\n",
       "1243    [#Fife #Weather 14/09/16,  09:00 is 16.6C (16....\n",
       "1244    [Weather data from BSC Time:09:00 AM Temp:22.7...\n",
       "1245    [Weather@09:00 Temp 11C Hum 96% Rain  0.9 mm W...\n",
       "1246    [Temp: 18.5°C Wind:0.3mph Pressure: 1014.2hpa ...\n",
       "1247    [Dry,  21.3oC,  80pct Hum,  Wind: 1.6 mph N (F...\n",
       "1248    [weather data 04:00 58.6°F 69% humidity 0.0 mp...\n",
       "1249    [wow guys le weather hey,  it's really something]\n",
       "Name: text, dtype: object"
      ]
     },
     "execution_count": 143,
     "metadata": {},
     "output_type": "execute_result"
    }
   ],
   "source": [
    "frame['text'].str.split(',')\n"
   ]
  },
  {
   "cell_type": "code",
   "execution_count": 104,
   "metadata": {
    "collapsed": false
   },
   "outputs": [],
   "source": [
    "results  = Series([x.split() for x in frame['text']])"
   ]
  },
  {
   "cell_type": "code",
   "execution_count": 119,
   "metadata": {
    "collapsed": false,
    "scrolled": true
   },
   "outputs": [
    {
     "data": {
      "text/plain": [
       "0       [How, does, London, compare, to, the, most, ex...\n",
       "1       [RT, @Imjustbanter:, LONDON, UNDERGROUND, IMPR...\n",
       "2       [RT, @dost_pagasa:, SEVERE, WEATHER, BULLETIN,...\n",
       "3       [RT, @GgNewsUK:, Man, 'killed, by, Porsche, dr...\n",
       "4       [RT, @vinteriorUK:, Hand, Painted, Dresser, Ch...\n",
       "5       [RT, @elpaisinenglish:, Good, morning!, Here's...\n",
       "6       [RT, @voimaoy:, At, the, Emporium,, a, shop, s...\n",
       "7       [RT, @MesutOzil1088:, With, one, point, back, ...\n",
       "8       [RT, @puludio_:, Cant, wait, till, sweater, we...\n",
       "9       [RT, @StarAdvertiser:, Flood, warning, extende...\n",
       "10      [RT, @nacinorocco:, Weather's, kinda, unpredic...\n",
       "11      [RT, @Ranasha:, #Technology, #Startup, #Founde...\n",
       "12      [#99c, #BOOKSPECIALS, @HollowManSeries, Amazon...\n",
       "13      [RT, @Tunnelbreeze:, \"Central, Tube, Station\",...\n",
       "14      [RT, @london_cycling:, Our, led, #BikeTube, ri...\n",
       "15      [RT, @Pembsbandb:, Pembrokeshire, to, Star, at...\n",
       "16      [RT, @rowanrowrowan:, Summer, vibes, in, Londo...\n",
       "17      [RT, @ParalympicsGB:, Last, night, we, brought...\n",
       "18      [RT, @Londonescort69:, London, Escort-JESS, Bl...\n",
       "19      [RT, @SpecialityOxy:, Today, sees, #TeamSOS, c...\n",
       "20      [RT, @rowanrowrowan:, Summer, vibes, in, Londo...\n",
       "21      [RT, @Oniropolis:, 'Now, More, Than, Ever,, Lo...\n",
       "22      [RT, @BusisiweMabena_:, And, for, tonight's, w...\n",
       "23      [RT, @rowanrowrowan:, Summer, vibes, in, Londo...\n",
       "24      [RT, @beingobsessed:, summer, can, be, great, ...\n",
       "25      [RT, @meetandjam:, Female-fronted, hardcore, m...\n",
       "26          [London, News, 24/7, https://t.co/5UpradbLxF]\n",
       "27      [It's, #CycleToWorkDay, and, @CarolineRussell,...\n",
       "28      [People, of, London,, open, your, eyes, before...\n",
       "29      [What, is, #London, to, you, ?, #Watch, my, vi...\n",
       "                              ...                        \n",
       "1220    [We, are, open, and, happy, to, report, that, ...\n",
       "1221    [This, is, the, perfect, weather, for, supermalt]\n",
       "1222    [@BTCare, I'd, be, interested, to, know, why, ...\n",
       "1223    [@AyeLetsGetWeird, lmao, it's, gay, I, think, ...\n",
       "1224    [Cool, Down, with, GODIVA’s, Brand, New, Summe...\n",
       "1225    [ICT, issues, Hazardous, Weather, Outlook, (HW...\n",
       "1226    [Dressing, like, a, deckchair, again..., Love,...\n",
       "1227                            [Weather, so, nice, 😫💯]\n",
       "1228    [@PureroomUK, this, sounds, like, a, perfect, ...\n",
       "1229    [Day, 2, of, @chilternrailway, bearable, hot, ...\n",
       "1230    [JKL, issues, Hazardous, Weather, Outlook, (HW...\n",
       "1231    [Wednesday, 08:59., Dry., Temp, 18.4C., Dew, p...\n",
       "1232    [ILN, issues, Hazardous, Weather, Outlook, (HW...\n",
       "1233    [Weather, Conditions, for, Coldstream, Rain, u...\n",
       "1234    [RT, @WireBirmingham:, BIRMINGHAM, ON, FILM:, ...\n",
       "1235    [RT, @UnrulyFella:, The, same, people, who, be...\n",
       "1236    [RT, @Faith_Steezy:, Cold, weather, makes, me,...\n",
       "1237          [RT, @Clyyss:, Perfect, Bae, weather, ❤️😍]\n",
       "1238    [Lake, Hamana, Weather(Shizuoka, JPN)17:00:03J...\n",
       "1239    [Almost, ready, to, pack, up, our, things, fro...\n",
       "1240    [#Weather, Conditions, at, 09:00:01, |, Wind:,...\n",
       "1241    [K5BL, LIVE, Weather, McKinney, TEXAS, USA, .....\n",
       "1242    [Wind, 6.0, mph, ENE, Barometer, 1009.62, mb, ...\n",
       "1243    [#Fife, #Weather, 14/09/16,, 09:00, is, 16.6C,...\n",
       "1244    [Weather, data, from, BSC, Time:09:00, AM, Tem...\n",
       "1245    [Weather@09:00, Temp, 11C, Hum, 96%, Rain, 0.9...\n",
       "1246    [Temp:, 18.5°C, Wind:0.3mph, Pressure:, 1014.2...\n",
       "1247    [Dry,, 21.3oC,, 80pct, Hum,, Wind:, 1.6, mph, ...\n",
       "1248    [weather, data, 04:00, 58.6°F, 69%, humidity, ...\n",
       "1249    [wow, guys, le, weather, hey,, it's, really, s...\n",
       "dtype: object"
      ]
     },
     "execution_count": 119,
     "metadata": {},
     "output_type": "execute_result"
    }
   ],
   "source": [
    "results\n"
   ]
  },
  {
   "cell_type": "code",
   "execution_count": 136,
   "metadata": {
    "collapsed": false
   },
   "outputs": [],
   "source": [
    "from collections import Counter\n",
    "counts = [Counter(x) for x in results]"
   ]
  },
  {
   "cell_type": "code",
   "execution_count": 176,
   "metadata": {
    "collapsed": false
   },
   "outputs": [],
   "source": [
    "import pandas as pd\n",
    "from stop_words import get_stop_words\n"
   ]
  },
  {
   "cell_type": "code",
   "execution_count": 243,
   "metadata": {
    "collapsed": false
   },
   "outputs": [],
   "source": [
    "skepta = ['rt','-','&amp;','|']\n",
    "stop_words = get_stop_words('english')\n",
    "stop_words.extend(skepta)"
   ]
  },
  {
   "cell_type": "code",
   "execution_count": 244,
   "metadata": {
    "collapsed": false
   },
   "outputs": [],
   "source": [
    "s = pd.Series(' '.join(frame['text']).lower().split())"
   ]
  },
  {
   "cell_type": "code",
   "execution_count": 245,
   "metadata": {
    "collapsed": false
   },
   "outputs": [],
   "source": [
    "sclean = Series(t for t in s if t.lower() not in stop_words)"
   ]
  },
  {
   "cell_type": "code",
   "execution_count": 247,
   "metadata": {
    "collapsed": false,
    "scrolled": true
   },
   "outputs": [
    {
     "data": {
      "text/plain": [
       "weather                    540\n",
       "london                     259\n",
       "security                    86\n",
       "uk                          69\n",
       "day                         63\n",
       "london,                     61\n",
       "first                       53\n",
       "new                         52\n",
       "cold                        51\n",
       "#weather                    49\n",
       "live                        48\n",
       "girl                        46\n",
       "class                       45\n",
       "provide                     45\n",
       "services                    44\n",
       "westminster                 43\n",
       "https://t.co/vfj1yui4cz     43\n",
       "eu.                         43\n",
       "@lazyrao:                   43\n",
       "throughout                  43\n",
       "dtype: int64"
      ]
     },
     "execution_count": 247,
     "metadata": {},
     "output_type": "execute_result"
    }
   ],
   "source": [
    "sclean.value_counts()[:20]"
   ]
  },
  {
   "cell_type": "code",
   "execution_count": null,
   "metadata": {
    "collapsed": true
   },
   "outputs": [],
   "source": []
  },
  {
   "cell_type": "code",
   "execution_count": null,
   "metadata": {
    "collapsed": true
   },
   "outputs": [],
   "source": []
  },
  {
   "cell_type": "code",
   "execution_count": null,
   "metadata": {
    "collapsed": true
   },
   "outputs": [],
   "source": []
  }
 ],
 "metadata": {
  "kernelspec": {
   "display_name": "Python [Root]",
   "language": "python",
   "name": "Python [Root]"
  },
  "language_info": {
   "codemirror_mode": {
    "name": "ipython",
    "version": 2
   },
   "file_extension": ".py",
   "mimetype": "text/x-python",
   "name": "python",
   "nbconvert_exporter": "python",
   "pygments_lexer": "ipython2",
   "version": "2.7.12"
  }
 },
 "nbformat": 4,
 "nbformat_minor": 0
}
