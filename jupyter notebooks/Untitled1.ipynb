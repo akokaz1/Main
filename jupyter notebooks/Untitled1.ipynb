{
 "cells": [
  {
   "cell_type": "code",
   "execution_count": 54,
   "metadata": {
    "collapsed": false
   },
   "outputs": [
    {
     "name": "stdout",
     "output_type": "stream",
     "text": [
      "{u'channel': {u'lastBuildDate': u'Fri, 16 Sep 2016 09:47 AM BST', u'atmosphere': {u'pressure': u'34100.95', u'rising': u'0', u'visibility': u'16.41', u'humidity': u'92'}, u'description': u'Yahoo! Weather for London, England, GB', u'language': u'en-us', u'title': u'Yahoo! Weather - London, England, GB', u'image': {u'url': u'http://l.yimg.com/a/i/brand/purplelogo//uh/us/news-wea.gif', u'width': u'142', u'height': u'18', u'link': u'http://weather.yahoo.com', u'title': u'Yahoo! Weather'}, u'item': {u'description': u'<![CDATA[<img src=\"http://l.yimg.com/a/i/us/we/52/12.gif\"/>\\n<BR />\\n<b>Current Conditions:</b>\\n<BR />Rain\\n<BR />\\n<BR />\\n<b>Forecast:</b>\\n<BR /> Fri - Showers. High: 20Low: 15\\n<BR /> Sat - Mostly Cloudy. High: 18Low: 13\\n<BR /> Sun - Mostly Cloudy. High: 20Low: 13\\n<BR /> Mon - Mostly Cloudy. High: 20Low: 12\\n<BR /> Tue - Mostly Cloudy. High: 18Low: 11\\n<BR />\\n<BR />\\n<a href=\"http://us.rd.yahoo.com/dailynews/rss/weather/Country__Country/*https://weather.yahoo.com/country/state/city-44418/\">Full Forecast at Yahoo! Weather</a>\\n<BR />\\n<BR />\\n(provided by <a href=\"http://www.weather.com\" >The Weather Channel</a>)\\n<BR />\\n]]>', u'pubDate': u'Fri, 16 Sep 2016 09:00 AM BST', u'title': u'Conditions for London, England, GB at 09:00 AM BST', u'long': u'-0.12797', u'forecast': [{u'code': u'11', u'text': u'Showers', u'high': u'20', u'low': u'15', u'date': u'16 Sep 2016', u'day': u'Fri'}, {u'code': u'28', u'text': u'Mostly Cloudy', u'high': u'18', u'low': u'13', u'date': u'17 Sep 2016', u'day': u'Sat'}, {u'code': u'28', u'text': u'Mostly Cloudy', u'high': u'20', u'low': u'13', u'date': u'18 Sep 2016', u'day': u'Sun'}, {u'code': u'28', u'text': u'Mostly Cloudy', u'high': u'20', u'low': u'12', u'date': u'19 Sep 2016', u'day': u'Mon'}, {u'code': u'28', u'text': u'Mostly Cloudy', u'high': u'18', u'low': u'11', u'date': u'20 Sep 2016', u'day': u'Tue'}, {u'code': u'28', u'text': u'Mostly Cloudy', u'high': u'19', u'low': u'10', u'date': u'21 Sep 2016', u'day': u'Wed'}, {u'code': u'28', u'text': u'Mostly Cloudy', u'high': u'19', u'low': u'12', u'date': u'22 Sep 2016', u'day': u'Thu'}, {u'code': u'28', u'text': u'Mostly Cloudy', u'high': u'18', u'low': u'13', u'date': u'23 Sep 2016', u'day': u'Fri'}, {u'code': u'28', u'text': u'Mostly Cloudy', u'high': u'20', u'low': u'12', u'date': u'24 Sep 2016', u'day': u'Sat'}, {u'code': u'28', u'text': u'Mostly Cloudy', u'high': u'20', u'low': u'13', u'date': u'25 Sep 2016', u'day': u'Sun'}], u'link': u'http://us.rd.yahoo.com/dailynews/rss/weather/Country__Country/*https://weather.yahoo.com/country/state/city-44418/', u'lat': u'51.507702', u'guid': {u'isPermaLink': u'false'}, u'condition': {u'date': u'Fri, 16 Sep 2016 09:00 AM BST', u'text': u'Rain', u'code': u'12', u'temp': u'17'}}, u'link': u'http://us.rd.yahoo.com/dailynews/rss/weather/Country__Country/*https://weather.yahoo.com/country/state/city-44418/', u'location': {u'city': u'London', u'region': u' England', u'country': u'United Kingdom'}, u'ttl': u'60', u'units': {u'distance': u'km', u'speed': u'km/h', u'temperature': u'C', u'pressure': u'mb'}, u'astronomy': {u'sunset': u'7:9 pm', u'sunrise': u'6:39 am'}, u'wind': {u'direction': u'245', u'speed': u'11.27', u'chill': u'63'}}}\n"
     ]
    }
   ],
   "source": [
    "import urllib2, urllib, json\n",
    "baseurl = \"https://query.yahooapis.com/v1/public/yql?q=select%20*%20from%20weather.forecast%20where%20woeid%20in%20(select%20woeid%20from%20geo.places(1)%20where%20text%3D%22london%2C%20uk%22)%20and%20u%3D'c'&format=json&env=store%3A%2F%2Fdatatables.org%2Falltableswithkeys\"\n",
    "yql_query = \"select * from weather.forecast where woeid in (select woeid from geo.places(1) where text=\\\"london, uk\\\") and u='c'\"\n",
    "yql_url = baseurl + urllib.urlencode({'q':yql_query}) + \"&format=json\"\n",
    "result = urllib2.urlopen(yql_url).read()\n",
    "data = json.loads(result)\n",
    "print data['query']['results']"
   ]
  },
  {
   "cell_type": "code",
   "execution_count": 25,
   "metadata": {
    "collapsed": false
   },
   "outputs": [],
   "source": [
    "from pandas import Series,DataFrame\n",
    "import pandas as pd\n",
    "from pandas.io.json import json_normalize"
   ]
  },
  {
   "cell_type": "code",
   "execution_count": 26,
   "metadata": {
    "collapsed": false
   },
   "outputs": [],
   "source": [
    "weather = json_normalize(data)"
   ]
  },
  {
   "cell_type": "code",
   "execution_count": 73,
   "metadata": {
    "collapsed": false
   },
   "outputs": [
    {
     "data": {
      "text/plain": [
       "0    16\n",
       "Name: query.results.channel.item.condition.temp, dtype: object"
      ]
     },
     "execution_count": 73,
     "metadata": {},
     "output_type": "execute_result"
    }
   ],
   "source": [
    "weather['query.results.channel.item.condition.temp']"
   ]
  },
  {
   "cell_type": "code",
   "execution_count": 57,
   "metadata": {
    "collapsed": false
   },
   "outputs": [
    {
     "data": {
      "text/plain": [
       "0    [{u'code': u'11', u'text': u'Showers', u'high'...\n",
       "Name: query.results.channel.item.forecast, dtype: object"
      ]
     },
     "execution_count": 57,
     "metadata": {},
     "output_type": "execute_result"
    }
   ],
   "source": [
    "weather['query.results.channel.item.forecast']"
   ]
  },
  {
   "cell_type": "code",
   "execution_count": 72,
   "metadata": {
    "collapsed": false
   },
   "outputs": [
    {
     "data": {
      "text/html": [
       "<div>\n",
       "<table border=\"1\" class=\"dataframe\">\n",
       "  <thead>\n",
       "    <tr style=\"text-align: right;\">\n",
       "      <th></th>\n",
       "      <th>query.count</th>\n",
       "      <th>query.created</th>\n",
       "      <th>query.lang</th>\n",
       "      <th>query.results.channel.astronomy.sunrise</th>\n",
       "      <th>query.results.channel.astronomy.sunset</th>\n",
       "      <th>query.results.channel.atmosphere.humidity</th>\n",
       "      <th>query.results.channel.atmosphere.pressure</th>\n",
       "      <th>query.results.channel.atmosphere.rising</th>\n",
       "      <th>query.results.channel.atmosphere.visibility</th>\n",
       "      <th>query.results.channel.description</th>\n",
       "      <th>...</th>\n",
       "      <th>query.results.channel.location.region</th>\n",
       "      <th>query.results.channel.title</th>\n",
       "      <th>query.results.channel.ttl</th>\n",
       "      <th>query.results.channel.units.distance</th>\n",
       "      <th>query.results.channel.units.pressure</th>\n",
       "      <th>query.results.channel.units.speed</th>\n",
       "      <th>query.results.channel.units.temperature</th>\n",
       "      <th>query.results.channel.wind.chill</th>\n",
       "      <th>query.results.channel.wind.direction</th>\n",
       "      <th>query.results.channel.wind.speed</th>\n",
       "    </tr>\n",
       "  </thead>\n",
       "  <tbody>\n",
       "    <tr>\n",
       "      <th>0</th>\n",
       "      <td>1</td>\n",
       "      <td>2016-09-16T08:27:54Z</td>\n",
       "      <td>en-US</td>\n",
       "      <td>6:39 am</td>\n",
       "      <td>7:9 pm</td>\n",
       "      <td>96</td>\n",
       "      <td>34067.08</td>\n",
       "      <td>0</td>\n",
       "      <td>11.75</td>\n",
       "      <td>Yahoo! Weather for London, England, GB</td>\n",
       "      <td>...</td>\n",
       "      <td>England</td>\n",
       "      <td>Yahoo! Weather - London, England, GB</td>\n",
       "      <td>60</td>\n",
       "      <td>km</td>\n",
       "      <td>mb</td>\n",
       "      <td>km/h</td>\n",
       "      <td>C</td>\n",
       "      <td>63</td>\n",
       "      <td>180</td>\n",
       "      <td>6.44</td>\n",
       "    </tr>\n",
       "  </tbody>\n",
       "</table>\n",
       "<p>1 rows × 42 columns</p>\n",
       "</div>"
      ],
      "text/plain": [
       "   query.count         query.created query.lang  \\\n",
       "0            1  2016-09-16T08:27:54Z      en-US   \n",
       "\n",
       "  query.results.channel.astronomy.sunrise  \\\n",
       "0                                 6:39 am   \n",
       "\n",
       "  query.results.channel.astronomy.sunset  \\\n",
       "0                                 7:9 pm   \n",
       "\n",
       "  query.results.channel.atmosphere.humidity  \\\n",
       "0                                        96   \n",
       "\n",
       "  query.results.channel.atmosphere.pressure  \\\n",
       "0                                  34067.08   \n",
       "\n",
       "  query.results.channel.atmosphere.rising  \\\n",
       "0                                       0   \n",
       "\n",
       "  query.results.channel.atmosphere.visibility  \\\n",
       "0                                       11.75   \n",
       "\n",
       "        query.results.channel.description               ...                 \\\n",
       "0  Yahoo! Weather for London, England, GB               ...                  \n",
       "\n",
       "  query.results.channel.location.region           query.results.channel.title  \\\n",
       "0                               England  Yahoo! Weather - London, England, GB   \n",
       "\n",
       "  query.results.channel.ttl query.results.channel.units.distance  \\\n",
       "0                        60                                   km   \n",
       "\n",
       "  query.results.channel.units.pressure query.results.channel.units.speed  \\\n",
       "0                                   mb                              km/h   \n",
       "\n",
       "  query.results.channel.units.temperature query.results.channel.wind.chill  \\\n",
       "0                                       C                               63   \n",
       "\n",
       "  query.results.channel.wind.direction query.results.channel.wind.speed  \n",
       "0                                  180                             6.44  \n",
       "\n",
       "[1 rows x 42 columns]"
      ]
     },
     "execution_count": 72,
     "metadata": {},
     "output_type": "execute_result"
    }
   ],
   "source": [
    "weather"
   ]
  },
  {
   "cell_type": "code",
   "execution_count": null,
   "metadata": {
    "collapsed": false
   },
   "outputs": [],
   "source": []
  },
  {
   "cell_type": "code",
   "execution_count": null,
   "metadata": {
    "collapsed": true
   },
   "outputs": [],
   "source": []
  }
 ],
 "metadata": {
  "kernelspec": {
   "display_name": "Python [Root]",
   "language": "python",
   "name": "Python [Root]"
  },
  "language_info": {
   "codemirror_mode": {
    "name": "ipython",
    "version": 2
   },
   "file_extension": ".py",
   "mimetype": "text/x-python",
   "name": "python",
   "nbconvert_exporter": "python",
   "pygments_lexer": "ipython2",
   "version": "2.7.12"
  }
 },
 "nbformat": 4,
 "nbformat_minor": 0
}
