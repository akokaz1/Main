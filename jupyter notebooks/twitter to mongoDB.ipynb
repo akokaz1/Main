{
 "cells": [
  {
   "cell_type": "code",
   "execution_count": 25,
   "metadata": {
    "collapsed": false
   },
   "outputs": [],
   "source": [
    "from twython import TwythonStreamer\n",
    "from pymongo import MongoClient\n",
    "client = MongoClient()\n",
    "db = client.twitter\n",
    "tweets = db.tweetTest"
   ]
  },
  {
   "cell_type": "code",
   "execution_count": 26,
   "metadata": {
    "collapsed": false
   },
   "outputs": [
    {
     "name": "stdout",
     "output_type": "stream",
     "text": [
      "[]\n"
     ]
    }
   ],
   "source": [
    "tweeter = []\n",
    "class MyStreamer(TwythonStreamer):\n",
    "    def on_success(self, data):\n",
    "        if data ['lang'] == 'en':\n",
    "            tweeter.append(data)\n",
    "            print 'recieved tweet #', len(tweeter)\n",
    "\n",
    "        if len(tweeter)>= 3:\n",
    "            self.disconnect()\n",
    "    def on_error(self,status_code, data):\n",
    "        print status_code, data\n",
    "        self.disconnect()\n",
    "print tweeter\n",
    "        #tweets.insert_many(tweeter)"
   ]
  },
  {
   "cell_type": "code",
   "execution_count": 27,
   "metadata": {
    "collapsed": false
   },
   "outputs": [
    {
     "name": "stdout",
     "output_type": "stream",
     "text": [
      "recieved tweet # 1\n",
      "recieved tweet # 2\n",
      "recieved tweet # 3\n",
      "[{u'contributors': None, u'truncated': False, u'text': u'Ranking the most likely EFL Cup third round upsets: Could Arsenal or Liverpool slip up? https://t.co/Mwaq4NRwP0', u'is_quote_status': False, u'in_reply_to_status_id': None, u'id': 778235845794996225L, u'favorite_count': 0, u'source': u'<a href=\"http://www.tottenhamnews.net/\" rel=\"nofollow\">Spurs News RSS</a>', u'retweeted': False, u'coordinates': None, u'timestamp_ms': u'1474380859217', u'entities': {u'user_mentions': [], u'symbols': [], u'hashtags': [], u'urls': [{u'url': u'https://t.co/Mwaq4NRwP0', u'indices': [88, 111], u'expanded_url': u'http://www.tottenhamnews.net/ranking-the-most-likely-efl-cup-third-round-upsets-could-arsenal-or-liverpool-slip-up/', u'display_url': u'tottenhamnews.net/ranking-the-mo\\u2026'}]}, u'in_reply_to_screen_name': None, u'id_str': u'778235845794996225', u'retweet_count': 0, u'in_reply_to_user_id': None, u'favorited': False, u'user': {u'follow_request_sent': None, u'profile_use_background_image': False, u'default_profile_image': False, u'id': 50592577, u'verified': False, u'profile_image_url_https': u'https://pbs.twimg.com/profile_images/511153882160844800/7Sp30N8l_normal.png', u'profile_sidebar_fill_color': u'DCE9F3', u'profile_text_color': u'122040', u'followers_count': 68086, u'profile_sidebar_border_color': u'003A63', u'id_str': u'50592577', u'profile_background_color': u'122040', u'listed_count': 473, u'profile_background_image_url_https': u'https://abs.twimg.com/images/themes/theme1/bg.png', u'utc_offset': 3600, u'statuses_count': 92349, u'description': u'Up-to-the minute Spurs News in your twitter feed', u'friends_count': 9810, u'location': u'Tottenham', u'profile_link_color': u'003A63', u'profile_image_url': u'http://pbs.twimg.com/profile_images/511153882160844800/7Sp30N8l_normal.png', u'following': None, u'geo_enabled': False, u'profile_banner_url': u'https://pbs.twimg.com/profile_banners/50592577/1410703646', u'profile_background_image_url': u'http://abs.twimg.com/images/themes/theme1/bg.png', u'name': u'Spurs News', u'lang': u'en', u'profile_background_tile': False, u'favourites_count': 119, u'screen_name': u'TottenhamNews', u'notifications': None, u'url': u'http://www.tottenhamnews.net', u'created_at': u'Thu Jun 25 08:40:44 +0000 2009', u'contributors_enabled': False, u'time_zone': u'London', u'protected': False, u'default_profile': False, u'is_translator': False}, u'geo': None, u'in_reply_to_user_id_str': None, u'possibly_sensitive': False, u'lang': u'en', u'created_at': u'Tue Sep 20 14:14:19 +0000 2016', u'filter_level': u'low', u'in_reply_to_status_id_str': None, u'place': None}, {u'contributors': None, u'truncated': False, u'text': u\"RT @EUintheUS: Fight against terrorism: EU strengthens its legal arsenal against ISIL/Da'esh and Al-Qaida: https://t.co/1D6vTv5EXq\", u'is_quote_status': False, u'in_reply_to_status_id': None, u'id': 778235854431088640L, u'favorite_count': 0, u'source': u'<a href=\"http://twitter.com/download/iphone\" rel=\"nofollow\">Twitter for iPhone</a>', u'retweeted': False, u'coordinates': None, u'timestamp_ms': u'1474380861276', u'entities': {u'user_mentions': [{u'id': 217616314, u'indices': [3, 13], u'id_str': u'217616314', u'screen_name': u'EUintheUS', u'name': u'EU in the US'}], u'symbols': [], u'hashtags': [], u'urls': [{u'url': u'https://t.co/1D6vTv5EXq', u'indices': [107, 130], u'expanded_url': u\"http://www.consilium.europa.eu/en/press/press-releases/2016/09/20-isil-daesh-al-qaida/?utm_source=dsms-auto&utm_medium=email&utm_campaign=Fight+against+terrorism%3a+EU+strengthens+its+legal+arsenal+against+ISIL%2fDa'esh+and+Al-Qaida\", u'display_url': u'consilium.europa.eu/en/press/press\\u2026'}]}, u'in_reply_to_screen_name': None, u'id_str': u'778235854431088640', u'retweet_count': 0, u'in_reply_to_user_id': None, u'favorited': False, u'retweeted_status': {u'contributors': None, u'truncated': False, u'text': u\"Fight against terrorism: EU strengthens its legal arsenal against ISIL/Da'esh and Al-Qaida: https://t.co/1D6vTv5EXq\", u'is_quote_status': False, u'in_reply_to_status_id': None, u'id': 778213481518665728L, u'favorite_count': 5, u'source': u'<a href=\"http://twitter.com\" rel=\"nofollow\">Twitter Web Client</a>', u'retweeted': False, u'coordinates': None, u'entities': {u'user_mentions': [], u'symbols': [], u'hashtags': [], u'urls': [{u'url': u'https://t.co/1D6vTv5EXq', u'indices': [92, 115], u'expanded_url': u\"http://www.consilium.europa.eu/en/press/press-releases/2016/09/20-isil-daesh-al-qaida/?utm_source=dsms-auto&utm_medium=email&utm_campaign=Fight+against+terrorism%3a+EU+strengthens+its+legal+arsenal+against+ISIL%2fDa'esh+and+Al-Qaida\", u'display_url': u'consilium.europa.eu/en/press/press\\u2026'}]}, u'in_reply_to_screen_name': None, u'id_str': u'778213481518665728', u'retweet_count': 1, u'in_reply_to_user_id': None, u'favorited': False, u'user': {u'follow_request_sent': None, u'profile_use_background_image': True, u'default_profile_image': False, u'id': 217616314, u'verified': True, u'profile_image_url_https': u'https://pbs.twimg.com/profile_images/768861199127543809/xykrJhoT_normal.jpg', u'profile_sidebar_fill_color': u'DDEEF6', u'profile_text_color': u'333333', u'followers_count': 36611, u'profile_sidebar_border_color': u'FFFFFF', u'id_str': u'217616314', u'profile_background_color': u'C0DEED', u'listed_count': 1154, u'profile_background_image_url_https': u'https://pbs.twimg.com/profile_background_images/770423214/5cc4f69ca0fe5f83fe9a1ebae8fe6388.jpeg', u'utc_offset': -14400, u'statuses_count': 22485, u'description': u\"Delegation of the European Union to the United States of America. Follow EU Ambassador David O'Sullivan @EUAmbUS and European External Action Service @eu_eeas\", u'friends_count': 1923, u'location': u'Washington, DC', u'profile_link_color': u'0084B4', u'profile_image_url': u'http://pbs.twimg.com/profile_images/768861199127543809/xykrJhoT_normal.jpg', u'following': None, u'geo_enabled': True, u'profile_banner_url': u'https://pbs.twimg.com/profile_banners/217616314/1443017207', u'profile_background_image_url': u'http://pbs.twimg.com/profile_background_images/770423214/5cc4f69ca0fe5f83fe9a1ebae8fe6388.jpeg', u'name': u'EU in the US', u'lang': u'en', u'profile_background_tile': False, u'favourites_count': 1340, u'screen_name': u'EUintheUS', u'notifications': None, u'url': u'http://www.EUintheUS.org', u'created_at': u'Sat Nov 20 00:58:06 +0000 2010', u'contributors_enabled': False, u'time_zone': u'Eastern Time (US & Canada)', u'protected': False, u'default_profile': False, u'is_translator': False}, u'geo': None, u'in_reply_to_user_id_str': None, u'possibly_sensitive': False, u'lang': u'en', u'created_at': u'Tue Sep 20 12:45:27 +0000 2016', u'filter_level': u'low', u'in_reply_to_status_id_str': None, u'place': None}, u'user': {u'follow_request_sent': None, u'profile_use_background_image': True, u'default_profile_image': False, u'id': 21650496, u'verified': False, u'profile_image_url_https': u'https://pbs.twimg.com/profile_images/3058882698/330d2388d740e676f778954c6705eaec_normal.jpeg', u'profile_sidebar_fill_color': u'FFF7CC', u'profile_text_color': u'0C3E53', u'followers_count': 3387, u'profile_sidebar_border_color': u'F2E195', u'id_str': u'21650496', u'profile_background_color': u'BADFCD', u'listed_count': 109, u'profile_background_image_url_https': u'https://abs.twimg.com/images/themes/theme12/bg.gif', u'utc_offset': -7200, u'statuses_count': 37638, u'description': u'Senior Adviser AB men twittrar som privatperson.', u'friends_count': 1258, u'location': u'V\\xe4rnamo/Stockholm/V\\xe4rlden ', u'profile_link_color': u'FF0000', u'profile_image_url': u'http://pbs.twimg.com/profile_images/3058882698/330d2388d740e676f778954c6705eaec_normal.jpeg', u'following': None, u'geo_enabled': False, u'profile_background_image_url': u'http://abs.twimg.com/images/themes/theme12/bg.gif', u'name': u'Carina H\\xe4gg', u'lang': u'en', u'profile_background_tile': False, u'favourites_count': 117, u'screen_name': u'CarinaHagg', u'notifications': None, u'url': None, u'created_at': u'Mon Feb 23 13:01:11 +0000 2009', u'contributors_enabled': False, u'time_zone': u'Greenland', u'protected': False, u'default_profile': False, u'is_translator': False}, u'geo': None, u'in_reply_to_user_id_str': None, u'possibly_sensitive': False, u'lang': u'en', u'created_at': u'Tue Sep 20 14:14:21 +0000 2016', u'filter_level': u'low', u'in_reply_to_status_id_str': None, u'place': None}, {u'contributors': None, u'truncated': False, u'text': u'RT @RYO_cleverfish: https://t.co/og2B6R75zn\\nEmile Smith-Rowe on his Arsenal U23 debut', u'is_quote_status': False, u'in_reply_to_status_id': None, u'id': 778235862026948608L, u'favorite_count': 0, u'source': u'<a href=\"http://twitter.com/download/iphone\" rel=\"nofollow\">Twitter for iPhone</a>', u'retweeted': False, u'coordinates': None, u'timestamp_ms': u'1474380863087', u'entities': {u'user_mentions': [{u'id': 332171933, u'indices': [3, 18], u'id_str': u'332171933', u'screen_name': u'RYO_cleverfish', u'name': u'RYO_cleverfish'}], u'symbols': [], u'hashtags': [], u'urls': [{u'url': u'https://t.co/og2B6R75zn', u'indices': [20, 43], u'expanded_url': u'http://www.arsenal.com/news/news-archive/20160920/-what-i-learnt-from-my-u-23s-debut-', u'display_url': u'arsenal.com/news/news-arch\\u2026'}]}, u'in_reply_to_screen_name': None, u'id_str': u'778235862026948608', u'retweet_count': 0, u'in_reply_to_user_id': None, u'favorited': False, u'retweeted_status': {u'contributors': None, u'truncated': False, u'text': u'https://t.co/og2B6R75zn\\nEmile Smith-Rowe on his Arsenal U23 debut', u'is_quote_status': False, u'in_reply_to_status_id': None, u'id': 778219683996512257L, u'favorite_count': 0, u'source': u'<a href=\"http://twitter.com\" rel=\"nofollow\">Twitter Web Client</a>', u'retweeted': False, u'coordinates': None, u'entities': {u'user_mentions': [], u'symbols': [], u'hashtags': [], u'urls': [{u'url': u'https://t.co/og2B6R75zn', u'indices': [0, 23], u'expanded_url': u'http://www.arsenal.com/news/news-archive/20160920/-what-i-learnt-from-my-u-23s-debut-', u'display_url': u'arsenal.com/news/news-arch\\u2026'}]}, u'in_reply_to_screen_name': None, u'id_str': u'778219683996512257', u'retweet_count': 1, u'in_reply_to_user_id': None, u'favorited': False, u'user': {u'follow_request_sent': None, u'profile_use_background_image': True, u'default_profile_image': False, u'id': 332171933, u'verified': False, u'profile_image_url_https': u'https://pbs.twimg.com/profile_images/1450555496/___normal.jpg', u'profile_sidebar_fill_color': u'DDEEF6', u'profile_text_color': u'333333', u'followers_count': 3113, u'profile_sidebar_border_color': u'C0DEED', u'id_str': u'332171933', u'profile_background_color': u'C0DEED', u'listed_count': 101, u'profile_background_image_url_https': u'https://abs.twimg.com/images/themes/theme1/bg.png', u'utc_offset': 28800, u'statuses_count': 31498, u'description': u'Gooner', u'friends_count': 2871, u'location': u'China', u'profile_link_color': u'0084B4', u'profile_image_url': u'http://pbs.twimg.com/profile_images/1450555496/___normal.jpg', u'following': None, u'geo_enabled': False, u'profile_background_image_url': u'http://abs.twimg.com/images/themes/theme1/bg.png', u'name': u'RYO_cleverfish', u'lang': u'en', u'profile_background_tile': False, u'favourites_count': 5336, u'screen_name': u'RYO_cleverfish', u'notifications': None, u'url': u'http://arseblog.com.cn/', u'created_at': u'Sat Jul 09 10:15:48 +0000 2011', u'contributors_enabled': False, u'time_zone': u'Beijing', u'protected': False, u'default_profile': True, u'is_translator': False}, u'geo': None, u'in_reply_to_user_id_str': None, u'possibly_sensitive': False, u'lang': u'en', u'created_at': u'Tue Sep 20 13:10:05 +0000 2016', u'filter_level': u'low', u'in_reply_to_status_id_str': None, u'place': None}, u'user': {u'follow_request_sent': None, u'profile_use_background_image': True, u'default_profile_image': False, u'id': 524624977, u'verified': False, u'profile_image_url_https': u'https://pbs.twimg.com/profile_images/777106306637398016/4P67X3jj_normal.jpg', u'profile_sidebar_fill_color': u'DDEEF6', u'profile_text_color': u'333333', u'followers_count': 434, u'profile_sidebar_border_color': u'C0DEED', u'id_str': u'524624977', u'profile_background_color': u'C0DEED', u'listed_count': 22, u'profile_background_image_url_https': u'https://abs.twimg.com/images/themes/theme1/bg.png', u'utc_offset': -25200, u'statuses_count': 23003, u'description': u\"15~Arsenal~AC Milan~Hoffenhiem~Holding is the English Maldini don't @ me\", u'friends_count': 600, u'location': u'Gallifrey ', u'profile_link_color': u'0084B4', u'profile_image_url': u'http://pbs.twimg.com/profile_images/777106306637398016/4P67X3jj_normal.jpg', u'following': None, u'geo_enabled': True, u'profile_banner_url': u'https://pbs.twimg.com/profile_banners/524624977/1472850947', u'profile_background_image_url': u'http://abs.twimg.com/images/themes/theme1/bg.png', u'name': u'Hxnry', u'lang': u'en', u'profile_background_tile': False, u'favourites_count': 74797, u'screen_name': u'Donhbankz', u'notifications': None, u'url': None, u'created_at': u'Wed Mar 14 18:52:38 +0000 2012', u'contributors_enabled': False, u'time_zone': u'Pacific Time (US & Canada)', u'protected': False, u'default_profile': True, u'is_translator': False}, u'geo': None, u'in_reply_to_user_id_str': None, u'possibly_sensitive': False, u'lang': u'en', u'created_at': u'Tue Sep 20 14:14:23 +0000 2016', u'filter_level': u'low', u'in_reply_to_status_id_str': None, u'place': None}]\n"
     ]
    },
    {
     "data": {
      "text/plain": [
       "<pymongo.results.InsertManyResult at 0x47a3d38>"
      ]
     },
     "execution_count": 27,
     "metadata": {},
     "output_type": "execute_result"
    }
   ],
   "source": [
    "stream = MyStreamer('eAL497dT5hjs2bHLh1mRoR3cj','HUuqoidPWbT04QPpZfFHwpqvLvq6IxOU1kOa2eRRZf8Rh5XmtE','775365291555651584-hhpeCLC8VY2ccOoeWxXge6cWbamKhBG','zzlkNqY4eaxCZ738GXhcTPmQf2L9RkO6uZot93a2ZJoF7')\n",
    "stream.statuses.filter(track = 'arsenal')\n",
    "print tweeter\n",
    "tweets.insert_many(tweeter)"
   ]
  },
  {
   "cell_type": "code",
   "execution_count": null,
   "metadata": {
    "collapsed": false
   },
   "outputs": [],
   "source": []
  },
  {
   "cell_type": "code",
   "execution_count": null,
   "metadata": {
    "collapsed": true
   },
   "outputs": [],
   "source": []
  }
 ],
 "metadata": {
  "kernelspec": {
   "display_name": "Python [Root]",
   "language": "python",
   "name": "Python [Root]"
  },
  "language_info": {
   "codemirror_mode": {
    "name": "ipython",
    "version": 2
   },
   "file_extension": ".py",
   "mimetype": "text/x-python",
   "name": "python",
   "nbconvert_exporter": "python",
   "pygments_lexer": "ipython2",
   "version": "2.7.12"
  }
 },
 "nbformat": 4,
 "nbformat_minor": 0
}
