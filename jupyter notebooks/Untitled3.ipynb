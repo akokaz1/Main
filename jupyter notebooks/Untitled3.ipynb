{
 "cells": [
  {
   "cell_type": "code",
   "execution_count": 1,
   "metadata": {
    "collapsed": true
   },
   "outputs": [],
   "source": [
    "import pymongo"
   ]
  },
  {
   "cell_type": "code",
   "execution_count": 2,
   "metadata": {
    "collapsed": true
   },
   "outputs": [],
   "source": [
    "from pymongo import MongoClient\n",
    "client = MongoClient()"
   ]
  },
  {
   "cell_type": "code",
   "execution_count": 9,
   "metadata": {
    "collapsed": false
   },
   "outputs": [],
   "source": [
    "db = client.kubrick"
   ]
  },
  {
   "cell_type": "code",
   "execution_count": 20,
   "metadata": {
    "collapsed": false
   },
   "outputs": [],
   "source": [
    "users = db.users"
   ]
  },
  {
   "cell_type": "code",
   "execution_count": 30,
   "metadata": {
    "collapsed": false
   },
   "outputs": [
    {
     "data": {
      "text/plain": [
       "{u'_id': ObjectId('57e111f1a156322c49f90b50'),\n",
       " u'age': 49.0,\n",
       " u'created': datetime.datetime(2016, 9, 20, 10, 39, 45, 344000),\n",
       " u'i': 10000.0,\n",
       " u'username': u'user10000'}"
      ]
     },
     "execution_count": 30,
     "metadata": {},
     "output_type": "execute_result"
    }
   ],
   "source": [
    "users.find_one()\n"
   ]
  },
  {
   "cell_type": "code",
   "execution_count": 33,
   "metadata": {
    "collapsed": false
   },
   "outputs": [
    {
     "data": {
      "text/plain": [
       "{u'_id': ObjectId('57e111f1a156322c49f90b50'),\n",
       " u'age': 49.0,\n",
       " u'created': datetime.datetime(2016, 9, 20, 10, 39, 45, 344000),\n",
       " u'i': 10000.0,\n",
       " u'username': u'user10000'}"
      ]
     },
     "execution_count": 33,
     "metadata": {},
     "output_type": "execute_result"
    }
   ],
   "source": [
    "users.find_one()"
   ]
  },
  {
   "cell_type": "code",
   "execution_count": 34,
   "metadata": {
    "collapsed": false
   },
   "outputs": [
    {
     "data": {
      "text/plain": [
       "1000004"
      ]
     },
     "execution_count": 34,
     "metadata": {},
     "output_type": "execute_result"
    }
   ],
   "source": [
    "users.count()"
   ]
  },
  {
   "cell_type": "code",
   "execution_count": 40,
   "metadata": {
    "collapsed": false
   },
   "outputs": [
    {
     "name": "stdout",
     "output_type": "stream",
     "text": [
      "{u'i': 100002.0, u'username': u'user100002', u'age': 0.0, u'created': datetime.datetime(2016, 9, 20, 10, 43, 16, 136000)}\n",
      "{u'i': 100018.0, u'username': u'user100018', u'age': 0.0, u'created': datetime.datetime(2016, 9, 20, 10, 43, 16, 139000)}\n",
      "{u'i': 10006.0, u'username': u'user10006', u'age': 4.0, u'created': datetime.datetime(2016, 9, 20, 10, 42, 53, 892000)}\n",
      "{u'i': 100139.0, u'username': u'user100139', u'age': 1.0, u'created': datetime.datetime(2016, 9, 20, 10, 43, 16, 165000)}\n",
      "{u'i': 100177.0, u'username': u'user100177', u'age': 0.0, u'created': datetime.datetime(2016, 9, 20, 10, 43, 16, 174000)}\n",
      "{u'i': 100183.0, u'username': u'user100183', u'age': 2.0, u'created': datetime.datetime(2016, 9, 20, 10, 43, 16, 176000)}\n",
      "{u'i': 100217.0, u'username': u'user100217', u'age': 4.0, u'created': datetime.datetime(2016, 9, 20, 10, 43, 16, 182000)}\n",
      "{u'i': 100221.0, u'username': u'user100221', u'age': 4.0, u'created': datetime.datetime(2016, 9, 20, 10, 43, 16, 183000)}\n",
      "{u'i': 100230.0, u'username': u'user100230', u'age': 0.0, u'created': datetime.datetime(2016, 9, 20, 10, 43, 16, 185000)}\n",
      "{u'i': 100251.0, u'username': u'user100251', u'age': 1.0, u'created': datetime.datetime(2016, 9, 20, 10, 43, 16, 190000)}\n"
     ]
    }
   ],
   "source": [
    "for mad in users.find({\"age\":{\"$lt\":5}},{\"_id\":0}).sort(\"username\").limit(10):\n",
    "    print mad    #filter search to find age lower than 5"
   ]
  },
  {
   "cell_type": "code",
   "execution_count": 41,
   "metadata": {
    "collapsed": false
   },
   "outputs": [
    {
     "data": {
      "text/plain": [
       "<pymongo.results.InsertOneResult at 0x4791318>"
      ]
     },
     "execution_count": 41,
     "metadata": {},
     "output_type": "execute_result"
    }
   ],
   "source": [
    "users.insert_one({\"username\":\"badmansho\", \"badness\":\"100%\"})"
   ]
  },
  {
   "cell_type": "code",
   "execution_count": 42,
   "metadata": {
    "collapsed": false
   },
   "outputs": [
    {
     "data": {
      "text/plain": [
       "{u'_id': ObjectId('57e13bfb8694de2f18ea688f'),\n",
       " u'badness': u'100%',\n",
       " u'username': u'badmansho'}"
      ]
     },
     "execution_count": 42,
     "metadata": {},
     "output_type": "execute_result"
    }
   ],
   "source": [
    "users.find_one({\"badness\":\"100%\"})"
   ]
  },
  {
   "cell_type": "code",
   "execution_count": null,
   "metadata": {
    "collapsed": true
   },
   "outputs": [],
   "source": []
  }
 ],
 "metadata": {
  "kernelspec": {
   "display_name": "Python [Root]",
   "language": "python",
   "name": "Python [Root]"
  },
  "language_info": {
   "codemirror_mode": {
    "name": "ipython",
    "version": 2
   },
   "file_extension": ".py",
   "mimetype": "text/x-python",
   "name": "python",
   "nbconvert_exporter": "python",
   "pygments_lexer": "ipython2",
   "version": "2.7.12"
  }
 },
 "nbformat": 4,
 "nbformat_minor": 0
}
